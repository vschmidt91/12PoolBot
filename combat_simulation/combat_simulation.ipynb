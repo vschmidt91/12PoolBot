{
 "cells": [
  {
   "cell_type": "code",
   "metadata": {
    "ExecuteTime": {
     "end_time": "2024-06-18T21:17:54.011476Z",
     "start_time": "2024-06-18T21:17:53.970252Z"
    }
   },
   "source": [
    "from dataclasses import asdict\n",
    "import lzma\n",
    "import pickle\n",
    "\n",
    "import numpy as np\n",
    "import pandas as pd\n",
    "import plotly.express as px\n",
    "from sklearn import linear_model, svm\n",
    "from sklearn.linear_model import LinearRegression, Perceptron\n",
    "from sklearn.kernel_ridge import KernelRidge\n",
    "from sklearn.ensemble import RandomForestRegressor, RandomForestClassifier\n",
    "from sklearn.neighbors import KNeighborsRegressor\n",
    "from sklearn.cross_decomposition import PLSCanonical, PLSRegression\n",
    "from sklearn.model_selection import train_test_split\n",
    "from sklearn.metrics import f1_score, mean_absolute_error, r2_score, confusion_matrix\n",
    "from sklearn.neural_network import MLPRegressor, MLPClassifier\n",
    "pd.options.plotting.backend = \"plotly\""
   ],
   "outputs": [],
   "execution_count": null
  },
  {
   "metadata": {
    "ExecuteTime": {
     "start_time": "2024-06-18T21:17:53.971309Z"
    }
   },
   "cell_type": "code",
   "source": "from combat import CombatDataset, CombatUnit",
   "outputs": [],
   "execution_count": null
  },
  {
   "cell_type": "code",
   "metadata": {
    "ExecuteTime": {
     "start_time": "2024-06-18T21:17:53.972317Z"
    }
   },
   "source": [
    "INPUT_PATH = \"dataset.xz\"\n",
    "with lzma.open(INPUT_PATH, \"rb\") as f:\n",
    "    dataset: CombatDataset = pickle.load(f)"
   ],
   "outputs": [],
   "execution_count": null
  },
  {
   "metadata": {
    "ExecuteTime": {
     "start_time": "2024-06-18T21:17:53.973319Z"
    }
   },
   "cell_type": "code",
   "source": "dataset.combats[:1]",
   "outputs": [],
   "execution_count": null
  },
  {
   "metadata": {
    "ExecuteTime": {
     "start_time": "2024-06-18T21:17:53.973319Z"
    }
   },
   "cell_type": "code",
   "source": "setups = pd.DataFrame([c.setup for c in dataset.combats])",
   "outputs": [],
   "execution_count": null
  },
  {
   "metadata": {
    "ExecuteTime": {
     "start_time": "2024-06-18T21:17:53.974829Z"
    }
   },
   "cell_type": "code",
   "source": [
    "def aggregate_field(f, agg):\n",
    "    setups[f] = setups[\"units\"].map(lambda r: agg([u[f] for u in r]))\n",
    "    setups[\"enemy_\" + f] = setups[\"enemy_units\"].map(lambda r: agg([u[f] for u in r]))\n",
    "aggregate_field(\"ground_dps\", np.mean)\n",
    "aggregate_field(\"air_dps\", np.mean)\n",
    "aggregate_field(\"ground_range\", np.mean)\n",
    "aggregate_field(\"air_range\", np.mean)\n",
    "aggregate_field(\"health\", np.sum)"
   ],
   "outputs": [],
   "execution_count": null
  },
  {
   "metadata": {
    "ExecuteTime": {
     "start_time": "2024-06-18T21:17:53.974829Z"
    }
   },
   "cell_type": "code",
   "source": "outcomes = pd.DataFrame([c.outcome for c in dataset.combats])",
   "outputs": [],
   "execution_count": null
  },
  {
   "metadata": {
    "ExecuteTime": {
     "start_time": "2024-06-18T21:17:53.975837Z"
    }
   },
   "cell_type": "code",
   "source": [
    "all_unit_ids = [v.value for v in dataset.unit_types]\n",
    "def to_vector(units: list[CombatUnit]) -> np.ndarray:\n",
    "    df_units = pd.DataFrame(units)\n",
    "    df_units[\"unit\"] = df_units[\"unit\"].map(lambda v: v.value)\n",
    "    unit_aggregation = df_units.groupby(\"unit\").sum().reindex(all_unit_ids).fillna(0.0)\n",
    "    vector = (unit_aggregation[\"health\"] + unit_aggregation[\"shield\"]) / 100\n",
    "    return vector.to_numpy()"
   ],
   "outputs": [],
   "execution_count": null
  },
  {
   "metadata": {
    "ExecuteTime": {
     "start_time": "2024-06-18T21:17:53.977837Z"
    }
   },
   "cell_type": "code",
   "source": [
    "# army = np.stack([to_vector(c.setup.units) for c in dataset.combats])\n",
    "# enemy_army = np.stack([to_vector(c.setup.enemy_units) for c in dataset.combats])"
   ],
   "outputs": [],
   "execution_count": null
  },
  {
   "metadata": {
    "ExecuteTime": {
     "start_time": "2024-06-18T21:17:53.978838Z"
    }
   },
   "cell_type": "code",
   "source": "df = pd.concat((setups, outcomes), axis=1)",
   "outputs": [],
   "execution_count": null
  },
  {
   "cell_type": "code",
   "metadata": {
    "ExecuteTime": {
     "start_time": "2024-06-18T21:17:53.979837Z"
    }
   },
   "source": [
    "df[[\"health\", \"enemy_health\", \"winner_health\"]].plot.box()"
   ],
   "outputs": [],
   "execution_count": null
  },
  {
   "cell_type": "code",
   "metadata": {
    "ExecuteTime": {
     "start_time": "2024-06-18T21:17:53.979837Z"
    }
   },
   "source": "df.plot.scatter(x=\"health\", y=\"enemy_health\", color=\"win\")",
   "outputs": [],
   "execution_count": null
  },
  {
   "cell_type": "code",
   "metadata": {
    "ExecuteTime": {
     "start_time": "2024-06-18T21:17:53.980836Z"
    }
   },
   "source": [
    "df.plot.hist(x=\"result\", color=\"win\")"
   ],
   "outputs": [],
   "execution_count": null
  },
  {
   "cell_type": "code",
   "metadata": {
    "ExecuteTime": {
     "start_time": "2024-06-18T21:17:53.982836Z"
    }
   },
   "source": [
    "\n",
    "# X = np.concatenate((army, enemy_army), 1)\n",
    "# X = np.stack([np.outer(a, b).flatten() for a, b in zip(army, enemy_army)])\n",
    "X = setups.drop(columns=[\"units\", \"enemy_units\"])\n",
    "y = df[\"result\"].to_numpy()\n",
    "X_train, X_test, y_train, y_test = train_test_split(X, y, test_size=.2, random_state=42)\n",
    "X_test"
   ],
   "outputs": [],
   "execution_count": null
  },
  {
   "cell_type": "code",
   "metadata": {
    "ExecuteTime": {
     "start_time": "2024-06-18T21:17:53.982836Z"
    }
   },
   "source": [
    "def train(exponent):\n",
    "    # model = MLPClassifier(solver=\"lbfgs\", max_iter=1000, random_state=42)\n",
    "    def transform_health(df):\n",
    "        health_pow = df[\"health\"] ** exponent\n",
    "        enemy_health_pow = df[\"enemy_health\"] ** exponent\n",
    "        df = df.drop(columns=[\"health\", \"enemy_health\"])\n",
    "        return pd.concat([df, health_pow, enemy_health_pow], axis=\"columns\")\n",
    "    model = MLPRegressor(hidden_layer_sizes=[1], solver=\"lbfgs\")\n",
    "    model.fit(transform_health(X_train), y_train)\n",
    "    y_pred = model.predict(transform_health(X_test))\n",
    "    return y_pred"
   ],
   "outputs": [],
   "execution_count": null
  },
  {
   "cell_type": "code",
   "metadata": {
    "ExecuteTime": {
     "start_time": "2024-06-18T21:17:53.983836Z"
    }
   },
   "source": "px.scatter(x=y_test, y=train(2))",
   "outputs": [],
   "execution_count": null
  },
  {
   "metadata": {
    "ExecuteTime": {
     "end_time": "2024-06-18T21:17:54.022986Z",
     "start_time": "2024-06-18T21:17:53.984836Z"
    }
   },
   "cell_type": "code",
   "source": [
    "exponents = np.linspace(0, 3, 100)\n",
    "errors = [mean_absolute_error(y_test, train(e)) for e in exponents]\n",
    "px.scatter(x=exponents, y=errors)"
   ],
   "outputs": [],
   "execution_count": null
  },
  {
   "metadata": {
    "ExecuteTime": {
     "start_time": "2024-06-18T21:17:53.985342Z"
    }
   },
   "cell_type": "code",
   "source": "y_pred = train(2)",
   "outputs": [],
   "execution_count": null
  },
  {
   "cell_type": "code",
   "metadata": {
    "ExecuteTime": {
     "start_time": "2024-06-18T21:17:53.986348Z"
    }
   },
   "source": [
    "mean_absolute_error(y_test, y_pred)"
   ],
   "outputs": [],
   "execution_count": null
  },
  {
   "cell_type": "code",
   "metadata": {
    "ExecuteTime": {
     "start_time": "2024-06-18T21:17:53.987348Z"
    }
   },
   "source": "f1_score(y_test > 0, y_pred > 0)",
   "outputs": [],
   "execution_count": null
  },
  {
   "cell_type": "code",
   "metadata": {
    "ExecuteTime": {
     "start_time": "2024-06-18T21:17:53.988348Z"
    }
   },
   "source": [
    "r2_score(y_test, y_pred)"
   ],
   "outputs": [],
   "execution_count": null
  },
  {
   "metadata": {
    "ExecuteTime": {
     "start_time": "2024-06-18T21:17:53.989348Z"
    }
   },
   "cell_type": "code",
   "source": "confusion_matrix(y_test > 0, y_pred > 0, normalize=\"all\")",
   "outputs": [],
   "execution_count": null
  },
  {
   "metadata": {
    "ExecuteTime": {
     "start_time": "2024-06-18T21:17:53.989348Z"
    }
   },
   "cell_type": "code",
   "source": "px.imshow(features)",
   "outputs": [],
   "execution_count": null
  },
  {
   "cell_type": "code",
   "metadata": {
    "ExecuteTime": {
     "start_time": "2024-06-18T21:17:53.990348Z"
    }
   },
   "source": [
    "weights = model.coefs_[0]\n",
    "model_summary = pd.DataFrame(\n",
    "    weights.reshape((2, -1)).T,\n",
    "    index=dataset.unit_types,\n",
    "    columns=[\"self\", \"enemy\"],\n",
    ")\n",
    "model_summary"
   ],
   "outputs": [],
   "execution_count": null
  }
 ],
 "metadata": {
  "kernelspec": {
   "display_name": "ares-sc2-starter-bot-9-w2dyhH-py3.11",
   "language": "python",
   "name": "python3"
  },
  "language_info": {
   "codemirror_mode": {
    "name": "ipython",
    "version": 3
   },
   "file_extension": ".py",
   "mimetype": "text/x-python",
   "name": "python",
   "nbconvert_exporter": "python",
   "pygments_lexer": "ipython3",
   "version": "3.11.9"
  }
 },
 "nbformat": 4,
 "nbformat_minor": 2
}
